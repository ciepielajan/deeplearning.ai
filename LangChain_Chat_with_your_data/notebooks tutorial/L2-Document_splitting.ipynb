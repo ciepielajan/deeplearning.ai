{
 "cells": [
  {
   "cell_type": "markdown",
   "id": "571cf802",
   "metadata": {},
   "source": [
    "# Document Splitting"
   ]
  },
  {
   "cell_type": "code",
   "execution_count": 116,
   "id": "ead2cd5d",
   "metadata": {},
   "outputs": [],
   "source": [
    "import os\n",
    "import openai\n",
    "import sys\n",
    "sys.path.append('../..')\n",
    "\n",
    "from dotenv import load_dotenv, find_dotenv\n",
    "_ = load_dotenv(find_dotenv()) # read local .env file\n",
    "\n",
    "openai.api_key  = os.environ['OPENAI_API_KEY']"
   ]
  },
  {
   "cell_type": "code",
   "execution_count": 117,
   "id": "30c7fd47",
   "metadata": {},
   "outputs": [],
   "source": [
    "from langchain.text_splitter import RecursiveCharacterTextSplitter, CharacterTextSplitter"
   ]
  },
  {
   "cell_type": "code",
   "execution_count": 118,
   "id": "e45edd4b",
   "metadata": {},
   "outputs": [],
   "source": [
    "chunk_size =26\n",
    "chunk_overlap = 4"
   ]
  },
  {
   "cell_type": "code",
   "execution_count": 119,
   "id": "c99770e5",
   "metadata": {},
   "outputs": [],
   "source": [
    "r_splitter = RecursiveCharacterTextSplitter(\n",
    "    chunk_size=chunk_size,\n",
    "    chunk_overlap=chunk_overlap\n",
    ")\n",
    "c_splitter = CharacterTextSplitter(\n",
    "    chunk_size=chunk_size,\n",
    "    chunk_overlap=chunk_overlap\n",
    ")"
   ]
  },
  {
   "cell_type": "markdown",
   "id": "631c7a66",
   "metadata": {},
   "source": [
    "Why doesn't this split the string below?"
   ]
  },
  {
   "cell_type": "code",
   "execution_count": 120,
   "id": "a7339b40",
   "metadata": {},
   "outputs": [],
   "source": [
    "text1 = 'abcdefghijklmnopqrstuvwxyz'"
   ]
  },
  {
   "cell_type": "code",
   "execution_count": 121,
   "id": "f1ff93e0",
   "metadata": {},
   "outputs": [
    {
     "data": {
      "text/plain": [
       "['abcdefghijklmnopqrstuvwxyz']"
      ]
     },
     "execution_count": 121,
     "metadata": {},
     "output_type": "execute_result"
    }
   ],
   "source": [
    "r_splitter.split_text(text1)"
   ]
  },
  {
   "cell_type": "code",
   "execution_count": 122,
   "id": "70c56dc1",
   "metadata": {},
   "outputs": [],
   "source": [
    "text2 = 'abcdefghijklmnopqrstuvwxyzabcdefg'"
   ]
  },
  {
   "cell_type": "code",
   "execution_count": 123,
   "id": "e1919c3b",
   "metadata": {},
   "outputs": [
    {
     "data": {
      "text/plain": [
       "['abcdefghijklmnopqrstuvwxyz', 'wxyzabcdefg']"
      ]
     },
     "execution_count": 123,
     "metadata": {},
     "output_type": "execute_result"
    }
   ],
   "source": [
    "r_splitter.split_text(text2)"
   ]
  },
  {
   "cell_type": "markdown",
   "id": "43d37682",
   "metadata": {},
   "source": [
    "Ok, this splits the string but we have an overlap specified as 5, but it looks like 3? (try an even number)"
   ]
  },
  {
   "cell_type": "code",
   "execution_count": 124,
   "id": "20f2af86",
   "metadata": {},
   "outputs": [],
   "source": [
    "text3 = \"a b c d e f g h i j k l m n o p q r s t u v w x y z\""
   ]
  },
  {
   "cell_type": "code",
   "execution_count": 125,
   "id": "78cde542",
   "metadata": {},
   "outputs": [
    {
     "data": {
      "text/plain": [
       "['a b c d e f g h i j k l m', 'l m n o p q r s t u v w x', 'w x y z']"
      ]
     },
     "execution_count": 125,
     "metadata": {},
     "output_type": "execute_result"
    }
   ],
   "source": [
    "r_splitter.split_text(text3)"
   ]
  },
  {
   "cell_type": "code",
   "execution_count": 126,
   "id": "a2adb949",
   "metadata": {},
   "outputs": [
    {
     "data": {
      "text/plain": [
       "['a b c d e f g h i j k l m n o p q r s t u v w x y z']"
      ]
     },
     "execution_count": 126,
     "metadata": {},
     "output_type": "execute_result"
    }
   ],
   "source": [
    "c_splitter.split_text(text3)"
   ]
  },
  {
   "cell_type": "code",
   "execution_count": 134,
   "id": "112e208b",
   "metadata": {},
   "outputs": [
    {
     "name": "stdout",
     "output_type": "stream",
     "text": [
      "a b c d e f g h i j k l m n o p q r s t u v w x y z\n"
     ]
    },
    {
     "data": {
      "text/plain": [
       "['a b c d e f g h i j k l m',\n",
       " 'i j k l m n o p q r s t u',\n",
       " 'q r s t u v w x y z']"
      ]
     },
     "execution_count": 134,
     "metadata": {},
     "output_type": "execute_result"
    }
   ],
   "source": [
    "c_splitter = CharacterTextSplitter(\n",
    "    chunk_size=chunk_size,\n",
    "    chunk_overlap=10,\n",
    "    separator = ' '\n",
    ")\n",
    "print(text3)\n",
    "c_splitter.split_text(text3)"
   ]
  },
  {
   "cell_type": "markdown",
   "id": "763577fd",
   "metadata": {},
   "source": [
    "## Recursive splitting details\n",
    "RecursiveCharacterTextSplitter is recommended for generic text."
   ]
  },
  {
   "cell_type": "code",
   "execution_count": 42,
   "id": "c5483855",
   "metadata": {},
   "outputs": [],
   "source": [
    "some_text = \"\"\"When writing documents, writers will use document structure to group content. \\\n",
    "This can convey to the reader, which idea's are related. For example, closely related ideas \\\n",
    "are in sentances. Similar ideas are in paragraphs. Paragraphs form a document. \\n\\n  \\\n",
    "Paragraphs are often delimited with a carriage return or two carriage returns. \\\n",
    "Carriage returns are the \"backslash n\" you see embedded in this string. \\\n",
    "Sentences have a period at the end, but also, have a space.\\\n",
    "and words are separated by space.\"\"\""
   ]
  },
  {
   "cell_type": "code",
   "execution_count": 43,
   "id": "cd274410",
   "metadata": {},
   "outputs": [
    {
     "data": {
      "text/plain": [
       "496"
      ]
     },
     "execution_count": 43,
     "metadata": {},
     "output_type": "execute_result"
    }
   ],
   "source": [
    "len(some_text)"
   ]
  },
  {
   "cell_type": "code",
   "execution_count": 44,
   "id": "b72c2e6d",
   "metadata": {},
   "outputs": [],
   "source": [
    "c_splitter = CharacterTextSplitter(\n",
    "    chunk_size=450,\n",
    "    chunk_overlap=0,\n",
    "    separator = ' '\n",
    ")\n",
    "r_splitter = RecursiveCharacterTextSplitter(\n",
    "    chunk_size=450,\n",
    "    chunk_overlap=0, \n",
    "    separators=[\"\\n\\n\", \"\\n\", \" \", \"\"]\n",
    ")"
   ]
  },
  {
   "cell_type": "code",
   "execution_count": 45,
   "id": "2c57f284",
   "metadata": {},
   "outputs": [
    {
     "data": {
      "text/plain": [
       "['When writing documents, writers will use document structure to group content. This can convey to the reader, which idea\\'s are related. For example, closely related ideas are in sentances. Similar ideas are in paragraphs. Paragraphs form a document. \\n\\n Paragraphs are often delimited with a carriage return or two carriage returns. Carriage returns are the \"backslash n\" you see embedded in this string. Sentences have a period at the end, but also,',\n",
       " 'have a space.and words are separated by space.']"
      ]
     },
     "execution_count": 45,
     "metadata": {},
     "output_type": "execute_result"
    }
   ],
   "source": [
    "c_splitter.split_text(some_text)"
   ]
  },
  {
   "cell_type": "code",
   "execution_count": 46,
   "id": "53d8d6d9",
   "metadata": {},
   "outputs": [
    {
     "data": {
      "text/plain": [
       "[\"When writing documents, writers will use document structure to group content. This can convey to the reader, which idea's are related. For example, closely related ideas are in sentances. Similar ideas are in paragraphs. Paragraphs form a document.\",\n",
       " 'Paragraphs are often delimited with a carriage return or two carriage returns. Carriage returns are the \"backslash n\" you see embedded in this string. Sentences have a period at the end, but also, have a space.and words are separated by space.']"
      ]
     },
     "execution_count": 46,
     "metadata": {},
     "output_type": "execute_result"
    }
   ],
   "source": [
    "r_splitter.split_text(some_text)"
   ]
  },
  {
   "cell_type": "markdown",
   "id": "019f0890",
   "metadata": {},
   "source": [
    "Let's reduce the chunk size a bit and add a period to our separators:"
   ]
  },
  {
   "cell_type": "code",
   "execution_count": 47,
   "id": "0fe3543d",
   "metadata": {},
   "outputs": [
    {
     "data": {
      "text/plain": [
       "[\"When writing documents, writers will use document structure to group content. This can convey to the reader, which idea's are related\",\n",
       " '. For example, closely related ideas are in sentances. Similar ideas are in paragraphs. Paragraphs form a document.',\n",
       " 'Paragraphs are often delimited with a carriage return or two carriage returns',\n",
       " '. Carriage returns are the \"backslash n\" you see embedded in this string',\n",
       " '. Sentences have a period at the end, but also, have a space.and words are separated by space.']"
      ]
     },
     "execution_count": 47,
     "metadata": {},
     "output_type": "execute_result"
    }
   ],
   "source": [
    "r_splitter = RecursiveCharacterTextSplitter(\n",
    "    chunk_size=150,\n",
    "    chunk_overlap=0,\n",
    "    separators=[\"\\n\\n\", \"\\n\", \"\\. \", \" \", \"\"]\n",
    ")\n",
    "r_splitter.split_text(some_text)"
   ]
  },
  {
   "cell_type": "code",
   "execution_count": 48,
   "id": "de1737bd",
   "metadata": {},
   "outputs": [
    {
     "data": {
      "text/plain": [
       "[\"When writing documents, writers will use document structure to group content. This can convey to the reader, which idea's are related.\",\n",
       " 'For example, closely related ideas are in sentances. Similar ideas are in paragraphs. Paragraphs form a document.',\n",
       " 'Paragraphs are often delimited with a carriage return or two carriage returns.',\n",
       " 'Carriage returns are the \"backslash n\" you see embedded in this string.',\n",
       " 'Sentences have a period at the end, but also, have a space.and words are separated by space.']"
      ]
     },
     "execution_count": 48,
     "metadata": {},
     "output_type": "execute_result"
    }
   ],
   "source": [
    "r_splitter = RecursiveCharacterTextSplitter(\n",
    "    chunk_size=150,\n",
    "    chunk_overlap=0,\n",
    "    separators=[\"\\n\\n\", \"\\n\", \"(?<=\\. )\", \" \", \"\"]\n",
    ")\n",
    "r_splitter.split_text(some_text)"
   ]
  },
  {
   "cell_type": "code",
   "execution_count": 77,
   "id": "b8cd92d9",
   "metadata": {},
   "outputs": [],
   "source": [
    "from langchain.document_loaders import PyPDFLoader\n",
    "loader = PyPDFLoader(\"docs/cs229_lectures/MachineLearning-Lecture01.pdf\")\n",
    "pages = loader.load()"
   ]
  },
  {
   "cell_type": "code",
   "execution_count": 78,
   "id": "c286fa1c",
   "metadata": {},
   "outputs": [],
   "source": [
    "from langchain.text_splitter import CharacterTextSplitter\n",
    "text_splitter = CharacterTextSplitter(\n",
    "    separator=\"\\n\",\n",
    "    chunk_size=1000,\n",
    "    chunk_overlap=150,\n",
    "    length_function=len\n",
    ")"
   ]
  },
  {
   "cell_type": "code",
   "execution_count": 79,
   "id": "2097d477",
   "metadata": {},
   "outputs": [],
   "source": [
    "docs = text_splitter.split_documents(pages)"
   ]
  },
  {
   "cell_type": "code",
   "execution_count": 80,
   "id": "cb0eb13b",
   "metadata": {},
   "outputs": [
    {
     "data": {
      "text/plain": [
       "77"
      ]
     },
     "execution_count": 80,
     "metadata": {},
     "output_type": "execute_result"
    }
   ],
   "source": [
    "len(docs)"
   ]
  },
  {
   "cell_type": "code",
   "execution_count": 81,
   "id": "8cdaaf29",
   "metadata": {},
   "outputs": [
    {
     "data": {
      "text/plain": [
       "22"
      ]
     },
     "execution_count": 81,
     "metadata": {},
     "output_type": "execute_result"
    }
   ],
   "source": [
    "len(pages)"
   ]
  },
  {
   "cell_type": "code",
   "execution_count": 82,
   "id": "618ebb0d",
   "metadata": {},
   "outputs": [],
   "source": [
    "from langchain.document_loaders import NotionDirectoryLoader\n",
    "loader = NotionDirectoryLoader(\"docs/Notion_DB\")\n",
    "notion_db = loader.load()"
   ]
  },
  {
   "cell_type": "code",
   "execution_count": 83,
   "id": "25c93697",
   "metadata": {},
   "outputs": [
    {
     "data": {
      "text/plain": [
       "50"
      ]
     },
     "execution_count": 83,
     "metadata": {},
     "output_type": "execute_result"
    }
   ],
   "source": [
    "len(notion_db)"
   ]
  },
  {
   "cell_type": "code",
   "execution_count": 84,
   "id": "ac709181",
   "metadata": {},
   "outputs": [
    {
     "data": {
      "text/plain": [
       "77"
      ]
     },
     "execution_count": 84,
     "metadata": {},
     "output_type": "execute_result"
    }
   ],
   "source": [
    "len(docs)"
   ]
  },
  {
   "cell_type": "markdown",
   "id": "233d004f",
   "metadata": {},
   "source": [
    "## Token splitting\n",
    "We can also split on token count explicity, if we want.\n",
    "\n",
    "This can be useful because LLMs often have context windows designated in tokens.\n",
    "\n",
    "Tokens are often ~4 characters."
   ]
  },
  {
   "cell_type": "code",
   "execution_count": 85,
   "id": "b2ac9766",
   "metadata": {},
   "outputs": [],
   "source": [
    "from langchain.text_splitter import TokenTextSplitter"
   ]
  },
  {
   "cell_type": "code",
   "execution_count": 86,
   "id": "557001e6",
   "metadata": {},
   "outputs": [],
   "source": [
    "text_splitter = TokenTextSplitter(chunk_size=1, chunk_overlap=0)"
   ]
  },
  {
   "cell_type": "code",
   "execution_count": 87,
   "id": "36fcf5ab",
   "metadata": {},
   "outputs": [],
   "source": [
    "text1 = \"foo bar bazzyfoo\""
   ]
  },
  {
   "cell_type": "code",
   "execution_count": 88,
   "id": "bbd53700",
   "metadata": {},
   "outputs": [
    {
     "data": {
      "text/plain": [
       "['foo', ' bar', ' b', 'az', 'zy', 'foo']"
      ]
     },
     "execution_count": 88,
     "metadata": {},
     "output_type": "execute_result"
    }
   ],
   "source": [
    "text_splitter.split_text(text1)"
   ]
  },
  {
   "cell_type": "code",
   "execution_count": 89,
   "id": "7329eec4",
   "metadata": {},
   "outputs": [],
   "source": [
    "text_splitter = TokenTextSplitter(chunk_size=10, chunk_overlap=0)"
   ]
  },
  {
   "cell_type": "code",
   "execution_count": 109,
   "id": "bb51f9d4",
   "metadata": {},
   "outputs": [],
   "source": [
    "docs = text_splitter.split_documents(pages)"
   ]
  },
  {
   "cell_type": "code",
   "execution_count": 111,
   "id": "1b9ffb32",
   "metadata": {},
   "outputs": [
    {
     "data": {
      "text/plain": [
       "Document(page_content='Instructor (Andrew Ng):  Okay. Good', metadata={'source': 'docs/cs229_lectures/MachineLearning-Lecture01.pdf', 'page': 0})"
      ]
     },
     "execution_count": 111,
     "metadata": {},
     "output_type": "execute_result"
    }
   ],
   "source": [
    "docs[1]"
   ]
  },
  {
   "cell_type": "code",
   "execution_count": 93,
   "id": "82a84448",
   "metadata": {},
   "outputs": [
    {
     "data": {
      "text/plain": [
       "{'source': 'docs/cs229_lectures/MachineLearning-Lecture01.pdf', 'page': 0}"
      ]
     },
     "execution_count": 93,
     "metadata": {},
     "output_type": "execute_result"
    }
   ],
   "source": [
    "pages[0].metadata"
   ]
  },
  {
   "cell_type": "markdown",
   "id": "648df746",
   "metadata": {},
   "source": [
    "## Context aware splitting\n",
    "Chunking aims to keep text with common context together.\n",
    "\n",
    "A text splitting often uses sentences or other delimiters to keep related text together but many documents (such as Markdown) have structure (headers) that can be explicitly used in splitting.\n",
    "\n",
    "We can use MarkdownHeaderTextSplitter to preserve header metadata in our chunks, as show below."
   ]
  },
  {
   "cell_type": "code",
   "execution_count": 94,
   "id": "d0b4fa64",
   "metadata": {},
   "outputs": [],
   "source": [
    "from langchain.document_loaders import NotionDirectoryLoader\n",
    "from langchain.text_splitter import MarkdownHeaderTextSplitter"
   ]
  },
  {
   "cell_type": "code",
   "execution_count": 95,
   "id": "fdb6db95",
   "metadata": {},
   "outputs": [],
   "source": [
    "markdown_document = \"\"\"# Title\\n\\n \\\n",
    "## Chapter 1\\n\\n \\\n",
    "Hi this is Jim\\n\\n Hi this is Joe\\n\\n \\\n",
    "### Section \\n\\n \\\n",
    "Hi this is Lance \\n\\n \n",
    "## Chapter 2\\n\\n \\\n",
    "Hi this is Molly\"\"\""
   ]
  },
  {
   "cell_type": "code",
   "execution_count": 96,
   "id": "4d1bc544",
   "metadata": {},
   "outputs": [],
   "source": [
    "headers_to_split_on = [\n",
    "    (\"#\", \"Header 1\"),\n",
    "    (\"##\", \"Header 2\"),\n",
    "    (\"###\", \"Header 3\"),\n",
    "]"
   ]
  },
  {
   "cell_type": "code",
   "execution_count": 97,
   "id": "db0ab41f",
   "metadata": {},
   "outputs": [],
   "source": [
    "markdown_splitter = MarkdownHeaderTextSplitter(\n",
    "    headers_to_split_on=headers_to_split_on\n",
    ")\n",
    "md_header_splits = markdown_splitter.split_text(markdown_document)"
   ]
  },
  {
   "cell_type": "code",
   "execution_count": 98,
   "id": "e771191d",
   "metadata": {},
   "outputs": [
    {
     "data": {
      "text/plain": [
       "Document(page_content='Hi this is Jim  \\nHi this is Joe', metadata={'Header 1': 'Title', 'Header 2': 'Chapter 1'})"
      ]
     },
     "execution_count": 98,
     "metadata": {},
     "output_type": "execute_result"
    }
   ],
   "source": [
    "md_header_splits[0]"
   ]
  },
  {
   "cell_type": "code",
   "execution_count": 99,
   "id": "391ae033",
   "metadata": {},
   "outputs": [
    {
     "data": {
      "text/plain": [
       "Document(page_content='Hi this is Lance', metadata={'Header 1': 'Title', 'Header 2': 'Chapter 1', 'Header 3': 'Section'})"
      ]
     },
     "execution_count": 99,
     "metadata": {},
     "output_type": "execute_result"
    }
   ],
   "source": [
    "md_header_splits[1]"
   ]
  },
  {
   "cell_type": "markdown",
   "id": "7a2cea1e",
   "metadata": {},
   "source": [
    "Try on a real Markdown file, like a Notion database."
   ]
  },
  {
   "cell_type": "code",
   "execution_count": 100,
   "id": "76de0869",
   "metadata": {},
   "outputs": [],
   "source": [
    "loader = NotionDirectoryLoader(\"docs/Notion_DB\")\n",
    "docs = loader.load()\n",
    "txt = ' '.join([d.page_content for d in docs])"
   ]
  },
  {
   "cell_type": "code",
   "execution_count": 101,
   "id": "ccf84da7",
   "metadata": {},
   "outputs": [],
   "source": [
    "headers_to_split_on = [\n",
    "    (\"#\", \"Header 1\"),\n",
    "    (\"##\", \"Header 2\"),\n",
    "]\n",
    "markdown_splitter = MarkdownHeaderTextSplitter(\n",
    "    headers_to_split_on=headers_to_split_on\n",
    ")"
   ]
  },
  {
   "cell_type": "code",
   "execution_count": 102,
   "id": "c89d678c",
   "metadata": {},
   "outputs": [],
   "source": [
    "md_header_splits = markdown_splitter.split_text(txt)"
   ]
  },
  {
   "cell_type": "code",
   "execution_count": 103,
   "id": "33c7c438",
   "metadata": {},
   "outputs": [
    {
     "data": {
      "text/plain": [
       "Document(page_content=\"We can not stress enough how we value feedback in all its forms.\\xa0**Good feedback is at the center of all people-related topics**. Good feedback is the key to a good collaboration, happy people and even a successful company. As a lead, you are responsible for leading the feedback for your people. This section will help you do so. Look at this list as a toolkit for you and your colleagues.  \\n- **The Feedback Cycle**  \\nThe general information about the feedback cycle for everyone can be found here:  \\n[Feedback cycle](Feedback%20cycle%2076db1b6873c9447780fc41d81a69441b.md)  \\n- **Quick links to tooling and formats**\\n- For everything related to goals and feedback, go to: [https://goals.blendle.io/](https://goals.blendle.io/reviews)\\n- For **your own review page** go to: [https://goals.blendle.io/reviews](https://goals.blendle.io/reviews)\\n- For an overview of **the feedback you got** go to: [https://goals.blendle.io/reviews/overview](https://goals.blendle.io/reviews/overview)\\n- For an **overview of your teammembers** go to: [https://goals.blendle.io/reviews/planning](https://goals.blendle.io/reviews/planning) and [https://goals.blendle.io/teams/me](https://goals.blendle.io/teams/me).\\n- **The Matrix™** can be found [**here](https://docs.google.com/spreadsheets/d/1HO4cEH0dguBywUzjT3FMUSGiJbgGjOQDdaILl0BaJME/edit#gid=1108390117).**  \\n**Why?**  \\nThe Feedback cycle is all about taking a step back and look at the greater picture. Summarizing all the input from the last few months, highlighting areas that need attention and looking forward and creating perspective.  \\n**How?**  \\nThe process for team leads looks like this, click on the toggle for tips and more information per step. We do this cycle 2 times a year (January and around summer).  \\n**Week 1 and 2: Preparation is key**  \\n- 1. Kick off meeting with all team leads by Team HR.  \\nTeam HR will schedule a meeting with all leads in the first week to go over new stuff, refresh our feedback memories, answer questions and discuss worry points.  \\n- 2. Self review, send out peer reviews and check if all your team members did the same.  \\nTeam HR blocks time in everyone's agenda.  \\n- **Lead by example** and make sure you did your own review on time and try to actively stimulate your team members and peers to do the same.\\n- **Check in with your team members** to see if they have questions. Keep in mind that all formats are just formats and a means to an end. Don't get hung up over semantics or form, feel free to freewheel if you think it's serves the overall goal.  \\n- 3. Write peer reviews and check if team members did the same.\\n1. **Manage your time:** you will get invites and you have to make reviews for your team. Keep that in mind and feel free to decline requests if you have too much on your plate. You can also just quickly write something in 5 bullets if you get too many requests.\\n2. **Write reviews for your team members:** they can (probably will) invite you, but you can also proactively write a review for them. Go to the invite section below, and type in the 'Find colleague' bar and click 'Start review'. The form speaks for itself.  \\n![../Blendle's%20Employee%20Handbook%20627043432731449f85bf3624cbc13dc7/Leading%20Feedback%200f0c47d45e1a4a59badec74df9c05c86/Schermafbeelding2018-06-19om17.04.43.png](../Blendle's%20Employee%20Handbook%20627043432731449f85bf3624cbc13dc7/Leading%20Feedback%200f0c47d45e1a4a59badec74df9c05c86/Schermafbeelding2018-06-19om17.04.43.png)  \\nHow to write a good review: this might sound simple, but it isn't. Here are a few pointers.  \\n- **Blank page:** Before going to the 'form', try writing down your thoughts and feelings on a piece of blank piece of paper. This way you don't steer (or limit) your thoughts yet. After that, just go through the form.\\n- Ask questions: when you arranged your thoughts on a blank piece of paper, ask yourself some 'control' questions before you start filling in the form.\\n- Would you hire this person again?\\n- Does someone's contribution match with someone's seniority level and pay rate? How come? What expectation isn't this person meeting?\\n- Do you see this person working here in a year? How would that look?\\n- Take a look at **former reviews, goals, notes and 1on1's.**\\n- **No new information:** your review shouldn't contain surprises. You've been having 1on1's and discussing feedback and praise in those.\\n- **Use ratings and be fierce:** don't be scared to give a 1, as long as you explain it. Also, keep someone's level in mind. You can expect more for people with experience and it's a compliment if you are fierce in your review.\\n- **Use the Matrix™:** more on this later, but make sure to look at the discipline of your team member and keep the different traits of work, drive and fit in mind. Try using the same terms, so it's easier to know what your point is.\\n- **Keep it short and give examples:** try to focus your feedback. What points would you really like to get across? Offering too much feedback can make it hard to know what's most important. Also, use examples and try to highlight themes (you tend to finish things quick and dirty, in situation XYZ) instead of a single skill (you should get better at writing).\\n- **Red flag?:** When you've written your review, be aware of a red flag. How 'heavy' do you expect the conversation to be? Prepare for heavy conversations by asking for advice from your own lead or HR.\\n- 4. Plan and prepare your own review with your lead.  \\nSchedule a meeting with your lead first (also before the other reviews).  \\nBlock time to prepare.  \\n- 5. Plan and start preparing reviews with your team members.  \\nWe recommend blocking a day or two half days and doing your reviews back to back. Make sure you plan enough time between so you have time to prepare.  \\nIf you are in a situation where you have a 2nd seat, you are in charge of the planning, just check with the 2nd seat for his/her availability.  \\n**Week 3 and 4: It's all about execution**  \\n- 1. Have your own feedback session.  \\nFor this I forward you to the general page about feedback:  \\n- 2. Finish preparing feedback sessions and remind team members to prepare.  \\nPrep is key. Without a proper preparation, there is no point in having the feedback session. Here's how you can prep well:  \\n1. Read all the reviews\\n2. Highlight differences between them and highlight things that draw your attention (things you would like to discuss).\\n3. Take another good look at the self review of your team member.\\n4. Take your own review as a starting point for the talk and try to come up with 2 or 3 overall themes you notice across the review.\\n5. Check if there are red flags you really need to bring up.\\n6. Check the pointers we give you in the next section.  \\n**Control questions:**  \\nAre there big differences between the self-review of the team member themselves and what other people (including you) think?  \\nDid your team member ask peers you think can give the most valuable feedback? Anyone missing? If you already notice that there isn't enough valuable input, consider flagging it with the team member.  \\nDo you see anything standing out in the reviews? Think about following up on this with the specific peers.  \\n- 3. Have the feedback sessions with your team members.  \\n1st and 2nd seat: for a lot of people it makes sense for more people then just the lead to join. Especially in the tech and product teams. It can have a lot of added value for people who switch teams a lot to have more people join in  \\n1. **Intro**: Hi X, welcome. We have 45 minutes to digest all the feedback you got in your reviews. The goal is to really look for overall themes and in the end work towards concrete goals. This conversation is a two-way street and you are in the lead. I prepared some talking points that I thought were interesting, but I’d like you to take the lead. The easiest way to structure this talk is to just simply go over the questions and the input you got there.  \\nNote: you have to take notes yourself. Pro tip: start a recording with your phone.  \\n2. **Kick off question** (goal is to get a sense of how someone is feeling): But before we dig in, I’d like to know what your overall feeling/thoughts were when going through all the feedback?\\n3. **Space to talk**: take time for this first question, it’s important. If someone is directly going to the concrete feedback, get back to the structure of the form and ask them to start with the feedback he/she got on the first question.\\n4. **Go through the questions in the review form**. Just listen and ask questions, make sure you are on the same page about the feedback that was given. If someone is discarding a very important or heavy point: make sure to mention that. Try to get your talking points across when the team member is bringing them up in answer to a certain question.  \\n‘Funny, I wrote that down too, how do you think we can improve that point?’. ‘Good to see your peers also see your hard work and dedication. I also wrote that down and project X where you did ABC is a really good example of it, do you recognize that?’  \\n5. **Look for overall themes (bigger points) in the feedback**. Try not to dig too deep into the details of concrete projects, feedback or tasks. Use the concrete stuff as an example to make a bigger point. Try to look for bigger points or themes across the concrete feedback. The so-called 'red thread'. Embed this in your questioning.  \\nAlso, try to dig a bit deeper by asking questions and not taking an easy answer (without going all Freud on someone). Here are a few tips:  \\n- Ask **short follow-up questions.** Examples:  \\nWhy is that? How do you feel about that? When did that happen before? How does that work? What did you do? What could you have done? Can you give an example? Can you explain? What stands out for you? Were there things you disagreed with? Which one? How come?  \\n- Ask neutral questions, without suggestion. So don't include the answer you think or hope you are going to get. Example: 'Did that make you feel stressed?' is less effective than 'How did you feel?'. Unless you specifically want to know someone's stress level, in which case you can use the next tip: ratings.\\n- **Use ratings** to get a better understanding. Example: on a scale of 1 to 10, how happy are you with your current role? Or how would you rate your current stress level?\\n- **Use silence.** It's time to think. Try keeping your mouth shut when silence occurs.\\n- **Listen.** Again: keep that mouth shut and practice the art of listening. Don't bother about the next question or that one thing you want to say. You are well prepared, you'll get your points across. Start with really listening to what someone was to say. You can use paraphrasing for this, but it tends to get annoying hearing 'So if I understand you correctly you mean ...' for the third time.\\n- Be curious and eager to understand. Just be human and use your sincere interest in that other person to really understand what someone is saying or maybe not saying.\\n6. **Ask for feedback**, how someone is feeling (stress level, work-life balance) and check overall happiness. Try asking about Blendle-wide stuff. For example how they feel about the current direction of the company and how they think you or the other leads are doing.\\n7. Go meta: you will know when you feel like you scratched the surface. Try one of these meta questions to turn the tide, by focussing on highs or lows:\\n- What are you most proud of over the past 6 months? Why?\\n- Do you ever get out of bed reluctant to go to work? When?\\n- If you had all the money in the world, what would you do from day to day?\\n- If you had your own company, what would it do/make/produce?\\n- What would you change of you were me or Alexander  \\n8. Try to **agree on the outline of the goals** and aks your team member to come up with a concrete list and add a deadline. This is also to check if the points you think are important came across. Did someone understand?  \\n**Week 4: Finish strong**  \\n- Follow-up on session and help with goals.  \\n- **The Matrix™**  \\nGeneral info about The Matrix**™** can be found here:  \\n[The Matrix™ (job profiles)](The%20Matrix%E2%84%A2%20(job%20profiles)%20215d09c0ccc84239ab64f7a16d7c0f7c.md)  \\nFor you as a lead, there are a few extra pointers on how to use The Matrix**™.**  \\n1. **It's a means to an end,** use it that way. It's not the holy grail, it's a living document with the purpose to give perspective and lower the bar for good feedback and meaningful conversations.\\n2. **Roles can cover multiple disciplines.** We encourage people to constantly push themselves and explore new skills or gain new knowledge. This results in people having roles which cover multiple disciplines. Keep that in mind when using the matrix for an individual. You can also use other disciplines as an inspiration.\\n3. The **levels aren't seniority levels**, so keep that in mind. There is a correlation of course. The more level 3 traits someone masters, the more senior someone probably will be.\\n4. Use it as **a yardstick.** Think about where you think someone should be on certain traits based on their level of experience and age and use it as an individual yardstick. Make sure you both agree on that level of expectation for that person together and agree on what the biggest improvement points are and how to improve them.\\n5. **Personalise.** In the end, we would love the have a tailor-made matrix for everyone, but this will do for now. Feel free to redefine certain traits or even add levels together.\\n- **Make notes**  \\n**Why?**  \\nWell, because you forget. Plus making notes forces you to constantly think about the feedback. We would recommend making it a habit at the end of the week (weekly review ftw!): how did X do?  \\nIf you have a good system, it will also allow you to look back. ‘Didn’t we discuss this already a year ago? It’s still an issue’. It also shows that you don’t forget and take this seriously.  \\n**How?**  \\nDocs, Evernote, Todoist, Wunderlist, Word, Things or even a notebook (I would not recommend a notebook). Whatever works. Just make small notes: You did well on project X and meeting Y, because ABC. I really liked when you did X, because it had an effect on ABC. It helps you during the reviews every 6 months.  \\n- **Continuous Feedback**  \\n**Why?**  \\nDon’t save up feedback, it’s less powerful. Just speak your mind. The more often you do this, the easier it gets. This goes both ways: good and bad. I never heard someone say he or she got too much feedback.  \\n**How?**  \\nFace to face is best (e-mail/slack/chat is ok for practical stuff).  \\nPraise in public, feedback 1on1.  \\nThink about:  \\n- quality of work: you did well on X. Because ABC.\\n- way of working: you were slow and distracted, how can I help?\\n- behaviour: try not to interrupt people during the meeting.  \\nThere are a lot of tips out there on how to give feedback.  \\nI like the HIP-approach:  \\n- **H**umble\\n- **H**elpful\\n- **I**mmediate\\n- **I**n person\\n- **P**rivate criticism/ **P**ublic Praise\\n- Not about **P**ersonality  \\nSource:  \\n[A HIP Approach to Feedback | Achieve Radical Candor](https://www.radicalcandor.com/blog/a-hip-approach-to-feedback/)  \\n- **Have scheduled (bi-)weekly 1on1's**  \\n**Why?**  \\nIt’s important and it's not going to happen if you don’t schedule it. If all is fine it might feel too much. It isn’t. Goal is to ‘stay in touch’ and simply have a relationship with someone. The relationship is the basis for being able to give good feedback and it makes it easier to receive too.  \\n**How?**  \\nIt works best if you have a standard agenda for this meeting. I would not recommend winging it every time.  \\n[re:Work - Guide: Coach managers to coach](https://rework.withgoogle.com/guides/managers-coach-managers-to-coach/steps/hold-effective-1-1-meetings/)  \\nHere’s an outline we like.  \\n- Personal: How are you feeling today? Why is that? What’s going on in your life at the moment? What’s on your mind?\\n- Work: What are you working on? What do you like/dislike? Any roadblocks/issues?\\n- Feedback and coaching: Share the feedback you wrote down. Do you have any feedback for me?\\n- Goals: How are you progressing on your personal goals? Need help?  \\n*Review action points last week and make new ones*  \\nI would recommend asking your team member to come up with an agenda, to also make them feel they are in control and in the lead.  \\nLast but not least: take 15-30 minutes to prepare. Both parties shouldn’t accept the meeting going forward without preparing.  \\nWe can highly recommend listening to this three part course from Manager Tools on 1:1’s. It's sometimes a bit cheesy (including the theme music) but the contents are very much worth it.  \\n[One-on-Ones - Part 1 (Hall Of Fame Guidance) | Manager Tools](https://www.manager-tools.com/2005/07/the-single-most-effective-management-tool-part-1)  \\n[Map of the Universe™ | Manager Tools](https://www.manager-tools.com/2005/07/the-single-most-effective-management-tool-part-2](https://www.manager-tools.com/2005/07/the-single-most-effective-management-tool-part-2))  \\n[One-on-Ones - Part 3 (Hall Of Fame Guidance) | Manager Tools](https://www.manager-tools.com/2005/07/the-single-most-effective-management-tool-part-3)  \\nA great book on this topic is ‘High Output Management’ from Andy Grove. Available here, let us know if you'd like to read this and we can order it for you.  \\n[bol.com | High Output Management, Andrew Grove | 9780679762881 | Boeken](https://www.bol.com/nl/f/high-output-management/9200000050107971/)  \\n- **Give input and flag**  \\nYou are the gatekeeper for the performance and development of your team members. If people excel, we should reward them. If someone is underperforming we should look for solutions. We want you to flag both situations with the MT and the HR team. First step is to tell the team member yourself, but keep 'the rest' in the loop too.  \\nDon't wait for a review cycle or contract which expires to give this a thought.  \\n- Optional: **Skip level session and upward feedback**  \\n**Skip level session:**  \\nAlso called an upward feedback session. A session where your team members sit down with your lead to talk about you. Your lead makes notes and shares them with you afterwords.  \\n“If you’re a manager of managers, you need to make sure that everyone on your team feels they can criticize their boss,” Scott says. But she’s quick to note that this does not mean encouraging your team to be boss killers. Instead, she recommends putting this advice into practice with a simple meeting — commonly called a 'skip-level meeting,' though that sounds hierarchical, so she prefers to call them 'manager guidance sessions.'  \\nThe process is straightforward: First, let your managers know that you’ll be scheduling a meeting with their direct reports. Get them comfortable with the idea, and make it clear that this meeting is intended to be helpful to them. Then explain the process to the reports, again making it clear that the goal of the meeting is to help their boss be a better manager — and that the meeting is not for attribution.  \\n“In other words, I would tell the manager what everybody said but not who said it. Not because I wanted to foster secrecy, but because I wanted to help get the information out there,” says Scott. “If there were too many things the team didn’t feel comfortable saying directly to their boss, and if it wasn’t getting better over time, that became the top thing I worked with the manager to change.”  \\n[Radical Candor - The Surprising Secret to Being a Good Boss](http://firstround.com/review/radical-candor-the-surprising-secret-to-being-a-good-boss/)  \\nJust let us know if you would like one and we will organize it for you :).  \\n**Upward feedback**  \\nSomething you can do yourself is asking for upward feedback using a typeform/googleform. Send these questions to your team and see where you're at:  \\n- My teamlead regularly gives me actionable feedback that helps me improve my performance.\\n- My teamlead does not micromanage (i.e., get involved in details that should be handled at other levels).\\n- My teamlead regularly shares relevant info and/or insights from the MT.\\n- My teamlead is easy to approach with problems/concerns/feedback.\\n- My teamlead communicates clear goals for our team.\\n- My teamlead keeps the team focus on our priority results/deliverables/OKR’s.  \\nSome good reads:  \\n[How Google Management Measures its Effectiveness](https://getlighthouse.com/blog/google-management/)  \\n[11 ways to get feedback from your most introverted employee](https://m.signalvnoise.com/11-ways-to-get-feedback-from-your-most-introverted-employee-7a6317121b47)  \\n[Our 6 Must Reads for Managers to Give Feedback That Helps People Grow](http://firstround.com/review/our-6-must-reads-for-managers-to-give-feedback-that-helps-people-grow/)  \\nWith a great example attached: [https://cdn.filestackcontent.com/SS7xTRITymhxGQQ37eaY](https://cdn.filestackcontent.com/SS7xTRITymhxGQQ37eaY)  \\n[Radical Candor - The Surprising Secret to Being a Good Boss](http://firstround.com/review/radical-candor-the-surprising-secret-to-being-a-good-boss/)\", metadata={'Header 1': 'Leading Feedback'})"
      ]
     },
     "execution_count": 103,
     "metadata": {},
     "output_type": "execute_result"
    }
   ],
   "source": [
    "md_header_splits[0]"
   ]
  },
  {
   "cell_type": "code",
   "execution_count": null,
   "id": "e4ca2850",
   "metadata": {},
   "outputs": [],
   "source": []
  }
 ],
 "metadata": {
  "kernelspec": {
   "display_name": "Python 3 (ipykernel)",
   "language": "python",
   "name": "python3"
  },
  "language_info": {
   "codemirror_mode": {
    "name": "ipython",
    "version": 3
   },
   "file_extension": ".py",
   "mimetype": "text/x-python",
   "name": "python",
   "nbconvert_exporter": "python",
   "pygments_lexer": "ipython3",
   "version": "3.8.1"
  }
 },
 "nbformat": 4,
 "nbformat_minor": 5
}
